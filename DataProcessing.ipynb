{
 "cells": [
  {
   "cell_type": "code",
   "execution_count": null,
   "metadata": {},
   "outputs": [],
   "source": [
    "# Title:  Process NYPD Arrest Dataset CSV for OLAP use\n",
    "# Author: Andrey Norin\n",
    "# Date:   12/7/2022"
   ]
  },
  {
   "cell_type": "code",
   "execution_count": null,
   "metadata": {},
   "outputs": [],
   "source": [
    "import pandas as pd\n",
    "import numpy as np\n",
    "import datetime"
   ]
  },
  {
   "cell_type": "code",
   "execution_count": null,
   "metadata": {},
   "outputs": [],
   "source": [
    "# import original csv\n",
    "#df = pd.read_csv('NYPD_Arrests_Data__Historic_.csv')"
   ]
  },
  {
   "cell_type": "code",
   "execution_count": null,
   "metadata": {},
   "outputs": [],
   "source": [
    "df = pd.read_parquet('NYPD_Arrests_Data__Historic.parquet')"
   ]
  },
  {
   "cell_type": "code",
   "execution_count": null,
   "metadata": {},
   "outputs": [],
   "source": [
    "# drop unneeded columns\n",
    "df = df.drop(columns=['JURISDICTION_CODE','PD_DESC','PD_CD','KY_CD','LAW_CODE','PERP_RACE',\n",
    "'X_COORD_CD','Y_COORD_CD','Latitude','Longitude','Lon_Lat'])"
   ]
  },
  {
   "cell_type": "code",
   "execution_count": null,
   "metadata": {},
   "outputs": [],
   "source": [
    "# translate codes into meaningful values\n",
    "df['LAW_CAT_CD'] = df['LAW_CAT_CD'].replace(['M','F','V'], ['Misdemeanor','Felony','Violation'])\n",
    "df['ARREST_BORO'] = df['ARREST_BORO'].replace(['Q','M','B','K','S'],['Queens','Manhattan','Bronx','Brooklyn','Staten Island'])"
   ]
  },
  {
   "cell_type": "code",
   "execution_count": null,
   "metadata": {},
   "outputs": [],
   "source": [
    "# generate IDs for date\n",
    "df['OFFENSE_ID'] = \"OFID\" + df.ARREST_KEY.map(str)\n",
    "df['DATE_ID'] = \"DTID\" + df.ARREST_KEY.map(str)"
   ]
  },
  {
   "cell_type": "code",
   "execution_count": null,
   "metadata": {},
   "outputs": [],
   "source": [
    "# convert column names all column names to lowercase\n",
    "df.columns= df.columns.str.lower()"
   ]
  },
  {
   "cell_type": "code",
   "execution_count": null,
   "metadata": {},
   "outputs": [],
   "source": [
    "# convert the 'Date' column to datetime format\n",
    "df['arrest_date']= pd.to_datetime(df['arrest_date'])"
   ]
  },
  {
   "cell_type": "code",
   "execution_count": null,
   "metadata": {},
   "outputs": [],
   "source": [
    "# explode arrest_date into multiple columns\n",
    "df['arrest_day']      = df['arrest_date'].map(lambda x: x.day)\n",
    "df['arrest_month']    = df['arrest_date'].map(lambda x: x.strftime(\"%B\"))\n",
    "df['arrest_year']     = df['arrest_date'].map(lambda x: x.year)\n",
    "df['arrest_day_name'] = df['arrest_date'].map(lambda x: x.strftime(\"%A\"))"
   ]
  },
  {
   "cell_type": "code",
   "execution_count": null,
   "metadata": {},
   "outputs": [],
   "source": [
    "# rearrange column order into final configuration\n",
    "# use print(df.columns.to_list()) to obtain list of columns\n",
    "\n",
    "cols = ['arrest_key', 'offense_id', 'ofns_desc', 'law_cat_cd', 'arrest_boro', 'arrest_precinct',\n",
    "'age_group', 'perp_sex','date_id','arrest_date', 'arrest_day', 'arrest_month', 'arrest_year',\n",
    "'arrest_day_name']\n",
    "df = df.reindex(columns=cols)\n",
    "df"
   ]
  },
  {
   "cell_type": "code",
   "execution_count": null,
   "metadata": {},
   "outputs": [],
   "source": [
    "# export df\n",
    "df.to_parquet('nypd_arrest_dataset_processed.parquet')\n",
    "df.to_csv('nypd_arrest_dataset_processed.csv')"
   ]
  }
 ],
 "metadata": {
  "kernelspec": {
   "display_name": "Python 3.11.0 64-bit",
   "language": "python",
   "name": "python3"
  },
  "language_info": {
   "codemirror_mode": {
    "name": "ipython",
    "version": 3
   },
   "file_extension": ".py",
   "mimetype": "text/x-python",
   "name": "python",
   "nbconvert_exporter": "python",
   "pygments_lexer": "ipython3",
   "version": "3.11.0"
  },
  "orig_nbformat": 4,
  "vscode": {
   "interpreter": {
    "hash": "20c628043430c3db668c2f94d2e08d623891b64b4dd8e09f5a490278e685cf79"
   }
  }
 },
 "nbformat": 4,
 "nbformat_minor": 2
}
